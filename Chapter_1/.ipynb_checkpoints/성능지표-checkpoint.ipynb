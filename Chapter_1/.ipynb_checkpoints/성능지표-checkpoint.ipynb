{
 "cells": [
  {
   "cell_type": "markdown",
   "id": "8adbf736-995f-48aa-a7b4-71ecc6ad7cfb",
   "metadata": {},
   "source": [
    "# 🕹️ 머신러닝 기초학습\n",
    "---\n",
    "#### 다음 내용은 '혼자 공부하는 머신러닝'에 대한 내용입니다.\n",
    "&nbsp;\n",
    "##### 지도학습 vs 비지도학습 vs 강화학습\n",
    "    머신러닝에는 크게 세가지 부분으로 나뉩니다.\n",
    "    지도학습 - 비지도학습 - 강화학습\n",
    "    지도학습이란 문제와 문제에 대한 답을 주고 컴퓨터에게 다른 값을 물어보는 것입니다.\n",
    "    - 예를 들어 컴퓨터에게 공부시간에 따른 시험 성적을 주고 내가 이정도 공부했을 때, 받을 수 있는 성적을 물어보는 것은 지도학습이죠.\n",
    "    반대 비지도학습은 공부 시간만 주고 컴퓨터가 판단하도록 하는 것, 이게 비지도학습입니다.\n",
    "    강화학습은 컴퓨터가 학습을 하면 그에 대한 보상을 주면서, 학습률을 늘리는 것이죠.\n",
    "    \n",
    "\n",
    "\n",
    "\n",
    "##### [성능 지표]\n",
    "여러 모델들을 적용 시키다보면 이 모델이 잘 훈련 되었는지, 평가를 해야합니다.\n"
   ]
  },
  {
   "cell_type": "code",
   "execution_count": null,
   "id": "7773b673-c4a1-43ae-8a9e-aed214954cba",
   "metadata": {},
   "outputs": [],
   "source": []
  }
 ],
 "metadata": {
  "kernelspec": {
   "display_name": "Python 3 (ipykernel)",
   "language": "python",
   "name": "python3"
  },
  "language_info": {
   "codemirror_mode": {
    "name": "ipython",
    "version": 3
   },
   "file_extension": ".py",
   "mimetype": "text/x-python",
   "name": "python",
   "nbconvert_exporter": "python",
   "pygments_lexer": "ipython3",
   "version": "3.9.6"
  }
 },
 "nbformat": 4,
 "nbformat_minor": 5
}
